{
 "cells": [
  {
   "cell_type": "markdown",
   "id": "2a5c3e28",
   "metadata": {},
   "source": [
    "# pyTorch"
   ]
  },
  {
   "cell_type": "markdown",
   "id": "f73d0859",
   "metadata": {},
   "source": [
    "```\n",
    "uv pip install torch torchvision --index-url https://download.pytorch.org/whl/cu126\n",
    "```"
   ]
  },
  {
   "cell_type": "markdown",
   "id": "34ea1fdd",
   "metadata": {},
   "source": [
    "- 파이토치 튜토리얼 : https://colab.research.google.com/drive/1NYDe4aFBukpTY7iC9QBuFyny59OJx08r?usp=sharing\n",
    "- cmd : nvidia-smi\n",
    "- 파이토치는 버전 호환성이 중요\n",
    "- tensor : 다차원 배열"
   ]
  },
  {
   "cell_type": "code",
   "execution_count": null,
   "id": "d4acc89a",
   "metadata": {},
   "outputs": [
    {
     "data": {
      "text/plain": [
       "True"
      ]
     },
     "execution_count": 1,
     "metadata": {},
     "output_type": "execute_result"
    }
   ],
   "source": [
    "# pyTorch 잘 설치되었는지 확인 -> True 나오면 됨 (GPU 쓸 준비가 됨)\n",
    "# cmd 창에서 nvidia-smi 써보기\n",
    "import torch\n",
    "\n",
    "torch.cuda.is_available()"
   ]
  },
  {
   "cell_type": "code",
   "execution_count": 2,
   "id": "aac3096e",
   "metadata": {},
   "outputs": [
    {
     "data": {
      "text/plain": [
       "'2.8.0+cu126'"
      ]
     },
     "execution_count": 2,
     "metadata": {},
     "output_type": "execute_result"
    }
   ],
   "source": [
    "torch.__version__"
   ]
  },
  {
   "cell_type": "code",
   "execution_count": 3,
   "id": "6dd4cbd1",
   "metadata": {},
   "outputs": [
    {
     "data": {
      "text/plain": [
       "tensor(5)"
      ]
     },
     "execution_count": 3,
     "metadata": {},
     "output_type": "execute_result"
    }
   ],
   "source": [
    "torch.tensor(5)"
   ]
  },
  {
   "cell_type": "code",
   "execution_count": 4,
   "id": "896ec6b0",
   "metadata": {},
   "outputs": [
    {
     "data": {
      "text/plain": [
       "tensor([1, 2, 3])"
      ]
     },
     "execution_count": 4,
     "metadata": {},
     "output_type": "execute_result"
    }
   ],
   "source": [
    "torch.tensor([1, 2, 3])"
   ]
  },
  {
   "cell_type": "code",
   "execution_count": 5,
   "id": "8ca52c0f",
   "metadata": {},
   "outputs": [
    {
     "data": {
      "text/plain": [
       "tensor([[1, 2, 3],\n",
       "        [4, 5, 6]])"
      ]
     },
     "execution_count": 5,
     "metadata": {},
     "output_type": "execute_result"
    }
   ],
   "source": [
    "torch.tensor([[1, 2, 3], [4, 5, 6]])"
   ]
  },
  {
   "cell_type": "code",
   "execution_count": 6,
   "id": "6b52305c",
   "metadata": {},
   "outputs": [
    {
     "data": {
      "text/plain": [
       "tensor([1, 2, 3, 4, 5])"
      ]
     },
     "execution_count": 6,
     "metadata": {},
     "output_type": "execute_result"
    }
   ],
   "source": [
    "data = [1, 2, 3, 4, 5]\n",
    "torch.tensor(data)"
   ]
  },
  {
   "cell_type": "code",
   "execution_count": 7,
   "id": "17aa22d8",
   "metadata": {},
   "outputs": [
    {
     "data": {
      "text/plain": [
       "tensor([1, 2, 3, 4, 5])"
      ]
     },
     "execution_count": 7,
     "metadata": {},
     "output_type": "execute_result"
    }
   ],
   "source": [
    "import numpy as np\n",
    "\n",
    "data = np.array([1, 2, 3, 4, 5])\n",
    "torch.tensor(data)"
   ]
  },
  {
   "cell_type": "code",
   "execution_count": 8,
   "id": "21d14a59",
   "metadata": {},
   "outputs": [
    {
     "data": {
      "text/plain": [
       "tensor([1., 1., 1.])"
      ]
     },
     "execution_count": 8,
     "metadata": {},
     "output_type": "execute_result"
    }
   ],
   "source": [
    "torch.ones(3)   # 안이 다 1로 채워진 데이터가 3개"
   ]
  },
  {
   "cell_type": "code",
   "execution_count": 9,
   "id": "3e2ef289",
   "metadata": {},
   "outputs": [
    {
     "data": {
      "text/plain": [
       "tensor([[1., 1., 1., 1., 1.],\n",
       "        [1., 1., 1., 1., 1.],\n",
       "        [1., 1., 1., 1., 1.]])"
      ]
     },
     "execution_count": 9,
     "metadata": {},
     "output_type": "execute_result"
    }
   ],
   "source": [
    "torch.ones(3, 5)"
   ]
  },
  {
   "cell_type": "code",
   "execution_count": null,
   "id": "c61c671b",
   "metadata": {},
   "outputs": [
    {
     "data": {
      "text/plain": [
       "tensor([[1., 1., 1.,  ..., 1., 1., 1.],\n",
       "        [1., 1., 1.,  ..., 1., 1., 1.],\n",
       "        [1., 1., 1.,  ..., 1., 1., 1.],\n",
       "        ...,\n",
       "        [1., 1., 1.,  ..., 1., 1., 1.],\n",
       "        [1., 1., 1.,  ..., 1., 1., 1.],\n",
       "        [1., 1., 1.,  ..., 1., 1., 1.]])"
      ]
     },
     "execution_count": 10,
     "metadata": {},
     "output_type": "execute_result"
    }
   ],
   "source": [
    "torch.ones(512, 512)    # 이미지    1 : 흰색 / 0 : 검정색"
   ]
  },
  {
   "cell_type": "code",
   "execution_count": 11,
   "id": "8fe6fe9a",
   "metadata": {},
   "outputs": [
    {
     "data": {
      "text/plain": [
       "tensor([[0., 0., 0.,  ..., 0., 0., 0.],\n",
       "        [0., 0., 0.,  ..., 0., 0., 0.],\n",
       "        [0., 0., 0.,  ..., 0., 0., 0.],\n",
       "        ...,\n",
       "        [0., 0., 0.,  ..., 0., 0., 0.],\n",
       "        [0., 0., 0.,  ..., 0., 0., 0.],\n",
       "        [0., 0., 0.,  ..., 0., 0., 0.]])"
      ]
     },
     "execution_count": 11,
     "metadata": {},
     "output_type": "execute_result"
    }
   ],
   "source": [
    "torch.zeros(512, 512)"
   ]
  },
  {
   "cell_type": "code",
   "execution_count": null,
   "id": "dba0dd04",
   "metadata": {},
   "outputs": [
    {
     "data": {
      "text/plain": [
       "tensor([[1., 0., 0., 0., 0.],\n",
       "        [0., 1., 0., 0., 0.],\n",
       "        [0., 0., 1., 0., 0.],\n",
       "        [0., 0., 0., 1., 0.],\n",
       "        [0., 0., 0., 0., 1.]])"
      ]
     },
     "execution_count": 12,
     "metadata": {},
     "output_type": "execute_result"
    }
   ],
   "source": [
    "torch.eye(5)        # eye : 단위행렬을 만들어줌"
   ]
  },
  {
   "cell_type": "code",
   "execution_count": 13,
   "id": "55dfc71d",
   "metadata": {},
   "outputs": [
    {
     "data": {
      "text/plain": [
       "tensor([1, 2, 3, 4, 5, 6, 7, 8, 9])"
      ]
     },
     "execution_count": 13,
     "metadata": {},
     "output_type": "execute_result"
    }
   ],
   "source": [
    "torch.arange(1, 10)"
   ]
  },
  {
   "cell_type": "code",
   "execution_count": 14,
   "id": "54d696e6",
   "metadata": {},
   "outputs": [
    {
     "data": {
      "text/plain": [
       "tensor([1, 3, 5, 7, 9])"
      ]
     },
     "execution_count": 14,
     "metadata": {},
     "output_type": "execute_result"
    }
   ],
   "source": [
    "torch.arange(1, 10, 2)"
   ]
  },
  {
   "cell_type": "code",
   "execution_count": null,
   "id": "beb336f7",
   "metadata": {},
   "outputs": [
    {
     "data": {
      "text/plain": [
       "tensor([0.5561, 0.3554, 0.2375, 0.5321, 0.2477])"
      ]
     },
     "execution_count": 15,
     "metadata": {},
     "output_type": "execute_result"
    }
   ],
   "source": [
    "torch.rand(5)       # 랜덤"
   ]
  },
  {
   "cell_type": "code",
   "execution_count": 16,
   "id": "c7f7555b",
   "metadata": {},
   "outputs": [
    {
     "data": {
      "text/plain": [
       "tensor([[[0.9245, 0.1653, 0.0511],\n",
       "         [0.9348, 0.8911, 0.7170],\n",
       "         [0.1831, 0.0522, 0.7169]],\n",
       "\n",
       "        [[0.4917, 0.2367, 0.4289],\n",
       "         [0.2476, 0.4778, 0.6647],\n",
       "         [0.2154, 0.1779, 0.5941]],\n",
       "\n",
       "        [[0.0730, 0.9086, 0.3391],\n",
       "         [0.5575, 0.2821, 0.3539],\n",
       "         [0.6283, 0.6831, 0.2561]]])"
      ]
     },
     "execution_count": 16,
     "metadata": {},
     "output_type": "execute_result"
    }
   ],
   "source": [
    "data = torch.rand(3, 3, 3)\n",
    "data"
   ]
  },
  {
   "cell_type": "code",
   "execution_count": null,
   "id": "6588088b",
   "metadata": {},
   "outputs": [
    {
     "data": {
      "text/plain": [
       "3"
      ]
     },
     "execution_count": 17,
     "metadata": {},
     "output_type": "execute_result"
    }
   ],
   "source": [
    "data.dim()      # 차원의 수"
   ]
  },
  {
   "cell_type": "markdown",
   "id": "b99fab49",
   "metadata": {},
   "source": [
    "## view : 차원 변경"
   ]
  },
  {
   "cell_type": "markdown",
   "id": "1fb034b3",
   "metadata": {},
   "source": [
    "- 컬러 -> 흑백(2차원) 으로 변경시켜 모델을 학습시킴\n",
    "- 모델에 input 넣을 때 2차원으로 넣어줘야함"
   ]
  },
  {
   "cell_type": "code",
   "execution_count": null,
   "id": "df6e2d3c",
   "metadata": {},
   "outputs": [
    {
     "data": {
      "text/plain": [
       "tensor([[0.9245, 0.1653, 0.0511],\n",
       "        [0.9348, 0.8911, 0.7170],\n",
       "        [0.1831, 0.0522, 0.7169],\n",
       "        [0.4917, 0.2367, 0.4289],\n",
       "        [0.2476, 0.4778, 0.6647],\n",
       "        [0.2154, 0.1779, 0.5941],\n",
       "        [0.0730, 0.9086, 0.3391],\n",
       "        [0.5575, 0.2821, 0.3539],\n",
       "        [0.6283, 0.6831, 0.2561]])"
      ]
     },
     "execution_count": 18,
     "metadata": {},
     "output_type": "execute_result"
    }
   ],
   "source": [
    "data.view(9, 3) # 차원 변경"
   ]
  },
  {
   "cell_type": "code",
   "execution_count": 19,
   "id": "19335552",
   "metadata": {},
   "outputs": [
    {
     "data": {
      "text/plain": [
       "tensor([0.9245, 0.1653, 0.0511, 0.9348, 0.8911, 0.7170, 0.1831, 0.0522, 0.7169,\n",
       "        0.4917, 0.2367, 0.4289, 0.2476, 0.4778, 0.6647, 0.2154, 0.1779, 0.5941,\n",
       "        0.0730, 0.9086, 0.3391, 0.5575, 0.2821, 0.3539, 0.6283, 0.6831, 0.2561])"
      ]
     },
     "execution_count": 19,
     "metadata": {},
     "output_type": "execute_result"
    }
   ],
   "source": [
    "data.view(27)"
   ]
  },
  {
   "cell_type": "code",
   "execution_count": 20,
   "id": "a9a42c52",
   "metadata": {},
   "outputs": [
    {
     "data": {
      "text/plain": [
       "tensor([[0.9245, 0.1653, 0.0511, 0.9348, 0.8911, 0.7170, 0.1831, 0.0522, 0.7169],\n",
       "        [0.4917, 0.2367, 0.4289, 0.2476, 0.4778, 0.6647, 0.2154, 0.1779, 0.5941],\n",
       "        [0.0730, 0.9086, 0.3391, 0.5575, 0.2821, 0.3539, 0.6283, 0.6831, 0.2561]])"
      ]
     },
     "execution_count": 20,
     "metadata": {},
     "output_type": "execute_result"
    }
   ],
   "source": [
    "data.view(3, 9)"
   ]
  },
  {
   "cell_type": "code",
   "execution_count": 21,
   "id": "9eb9405e",
   "metadata": {},
   "outputs": [
    {
     "data": {
      "text/plain": [
       "tensor([[0.9245, 0.1653, 0.0511],\n",
       "        [0.9348, 0.8911, 0.7170],\n",
       "        [0.1831, 0.0522, 0.7169],\n",
       "        [0.4917, 0.2367, 0.4289],\n",
       "        [0.2476, 0.4778, 0.6647],\n",
       "        [0.2154, 0.1779, 0.5941],\n",
       "        [0.0730, 0.9086, 0.3391],\n",
       "        [0.5575, 0.2821, 0.3539],\n",
       "        [0.6283, 0.6831, 0.2561]])"
      ]
     },
     "execution_count": 21,
     "metadata": {},
     "output_type": "execute_result"
    }
   ],
   "source": [
    "data.view(9, -1)    # -1 : 열의 개수는 알아서 채워줌"
   ]
  },
  {
   "cell_type": "code",
   "execution_count": 22,
   "id": "2a2790a7",
   "metadata": {},
   "outputs": [
    {
     "data": {
      "text/plain": [
       "tensor([0.9245, 0.1653, 0.0511, 0.9348, 0.8911, 0.7170, 0.1831, 0.0522, 0.7169,\n",
       "        0.4917, 0.2367, 0.4289, 0.2476, 0.4778, 0.6647, 0.2154, 0.1779, 0.5941,\n",
       "        0.0730, 0.9086, 0.3391, 0.5575, 0.2821, 0.3539, 0.6283, 0.6831, 0.2561])"
      ]
     },
     "execution_count": 22,
     "metadata": {},
     "output_type": "execute_result"
    }
   ],
   "source": [
    "data.view(-1)       # 한줄로 쭉 피기"
   ]
  },
  {
   "cell_type": "code",
   "execution_count": 23,
   "id": "97cd37f2",
   "metadata": {},
   "outputs": [
    {
     "data": {
      "text/plain": [
       "torch.Size([3, 3, 3])"
      ]
     },
     "execution_count": 23,
     "metadata": {},
     "output_type": "execute_result"
    }
   ],
   "source": [
    "data.shape"
   ]
  },
  {
   "cell_type": "code",
   "execution_count": 24,
   "id": "9488d7ee",
   "metadata": {},
   "outputs": [
    {
     "data": {
      "text/plain": [
       "3"
      ]
     },
     "execution_count": 24,
     "metadata": {},
     "output_type": "execute_result"
    }
   ],
   "source": [
    "data.dim()"
   ]
  },
  {
   "cell_type": "code",
   "execution_count": 25,
   "id": "5de63b6a",
   "metadata": {},
   "outputs": [
    {
     "data": {
      "text/plain": [
       "torch.float32"
      ]
     },
     "execution_count": 25,
     "metadata": {},
     "output_type": "execute_result"
    }
   ],
   "source": [
    "data.dtype"
   ]
  },
  {
   "cell_type": "markdown",
   "id": "4ab13cea",
   "metadata": {},
   "source": [
    "## cuda"
   ]
  },
  {
   "cell_type": "markdown",
   "id": "c49e44e6",
   "metadata": {},
   "source": [
    "- 데이터가 GPU에 있는거랑 CPU에 있는건 다름\n",
    "- 연산하려는 데이터가 모두 같은 GPU 공간에 있어야 하고, 학습데이터도, 모델도 다 동일 GPU에 있어야함"
   ]
  },
  {
   "cell_type": "code",
   "execution_count": 26,
   "id": "6b76c058",
   "metadata": {},
   "outputs": [
    {
     "data": {
      "text/plain": [
       "True"
      ]
     },
     "execution_count": 26,
     "metadata": {},
     "output_type": "execute_result"
    }
   ],
   "source": [
    "# 이건 꼭 외우기!\n",
    "torch.cuda.is_available()"
   ]
  },
  {
   "cell_type": "code",
   "execution_count": null,
   "id": "222f5a92",
   "metadata": {},
   "outputs": [
    {
     "data": {
      "text/plain": [
       "1"
      ]
     },
     "execution_count": 27,
     "metadata": {},
     "output_type": "execute_result"
    }
   ],
   "source": [
    "torch.cuda.device_count()       # GPU 개수"
   ]
  },
  {
   "cell_type": "code",
   "execution_count": 31,
   "id": "66f1ebfa",
   "metadata": {},
   "outputs": [
    {
     "data": {
      "text/plain": [
       "'NVIDIA GeForce RTX 4070 Laptop GPU'"
      ]
     },
     "execution_count": 31,
     "metadata": {},
     "output_type": "execute_result"
    }
   ],
   "source": [
    "torch.cuda.get_device_name(0)    # GPU 이름"
   ]
  },
  {
   "cell_type": "code",
   "execution_count": 32,
   "id": "cfa24f63",
   "metadata": {},
   "outputs": [
    {
     "data": {
      "text/plain": [
       "device(type='cuda', index=1)"
      ]
     },
     "execution_count": 32,
     "metadata": {},
     "output_type": "execute_result"
    }
   ],
   "source": [
    "device = torch.device(\"cuda:1\")\n",
    "device"
   ]
  },
  {
   "cell_type": "code",
   "execution_count": 33,
   "id": "b292f004",
   "metadata": {},
   "outputs": [
    {
     "data": {
      "text/plain": [
       "tensor([1, 2, 3])"
      ]
     },
     "execution_count": 33,
     "metadata": {},
     "output_type": "execute_result"
    }
   ],
   "source": [
    "data = torch.tensor([1, 2, 3])\n",
    "data"
   ]
  },
  {
   "cell_type": "markdown",
   "id": "7c58d9f0",
   "metadata": {},
   "source": [
    "### GPU로 데이터 옮기기\n",
    "1. .to(\"cuda\")"
   ]
  },
  {
   "cell_type": "code",
   "execution_count": 34,
   "id": "9098dbcd",
   "metadata": {},
   "outputs": [
    {
     "data": {
      "text/plain": [
       "tensor([1, 2, 3], device='cuda:0')"
      ]
     },
     "execution_count": 34,
     "metadata": {},
     "output_type": "execute_result"
    }
   ],
   "source": [
    "data.to(\"cuda\")     # GPU로 옮기기"
   ]
  },
  {
   "cell_type": "markdown",
   "id": "2a2bed4e",
   "metadata": {},
   "source": [
    "2. .cuda()"
   ]
  },
  {
   "cell_type": "code",
   "execution_count": 36,
   "id": "ac48a652",
   "metadata": {},
   "outputs": [
    {
     "data": {
      "text/plain": [
       "tensor([1, 2, 3], device='cuda:0')"
      ]
     },
     "execution_count": 36,
     "metadata": {},
     "output_type": "execute_result"
    }
   ],
   "source": [
    "data1 = torch.tensor([1, 2, 3]).cuda()\n",
    "data1"
   ]
  },
  {
   "cell_type": "code",
   "execution_count": 37,
   "id": "a6817ea2",
   "metadata": {},
   "outputs": [
    {
     "data": {
      "text/plain": [
       "tensor([1, 2, 3])"
      ]
     },
     "execution_count": 37,
     "metadata": {},
     "output_type": "execute_result"
    }
   ],
   "source": [
    "data1.to(\"cpu\")     # CPU로 옮기기"
   ]
  },
  {
   "cell_type": "markdown",
   "id": "482ed163",
   "metadata": {},
   "source": [
    "### 연산"
   ]
  },
  {
   "cell_type": "code",
   "execution_count": 38,
   "id": "28585554",
   "metadata": {},
   "outputs": [
    {
     "data": {
      "text/plain": [
       "tensor([1, 2, 3])"
      ]
     },
     "execution_count": 38,
     "metadata": {},
     "output_type": "execute_result"
    }
   ],
   "source": [
    "data"
   ]
  },
  {
   "cell_type": "code",
   "execution_count": 39,
   "id": "d6dd5a5e",
   "metadata": {},
   "outputs": [
    {
     "data": {
      "text/plain": [
       "tensor([1, 2, 3], device='cuda:0')"
      ]
     },
     "execution_count": 39,
     "metadata": {},
     "output_type": "execute_result"
    }
   ],
   "source": [
    "data1"
   ]
  },
  {
   "cell_type": "code",
   "execution_count": 40,
   "id": "d51c9b1d",
   "metadata": {},
   "outputs": [
    {
     "ename": "RuntimeError",
     "evalue": "Expected all tensors to be on the same device, but found at least two devices, cuda:0 and cpu!",
     "output_type": "error",
     "traceback": [
      "\u001b[31m---------------------------------------------------------------------------\u001b[39m",
      "\u001b[31mRuntimeError\u001b[39m                              Traceback (most recent call last)",
      "\u001b[36mCell\u001b[39m\u001b[36m \u001b[39m\u001b[32mIn[40]\u001b[39m\u001b[32m, line 1\u001b[39m\n\u001b[32m----> \u001b[39m\u001b[32m1\u001b[39m \u001b[43mdata\u001b[49m\u001b[43m \u001b[49m\u001b[43m+\u001b[49m\u001b[43m \u001b[49m\u001b[43mdata1\u001b[49m\n",
      "\u001b[31mRuntimeError\u001b[39m: Expected all tensors to be on the same device, but found at least two devices, cuda:0 and cpu!"
     ]
    }
   ],
   "source": [
    "data + data1"
   ]
  },
  {
   "cell_type": "code",
   "execution_count": 41,
   "id": "ddfa39dc",
   "metadata": {},
   "outputs": [
    {
     "data": {
      "text/plain": [
       "tensor([2, 4, 6], device='cuda:0')"
      ]
     },
     "execution_count": 41,
     "metadata": {},
     "output_type": "execute_result"
    }
   ],
   "source": [
    "data = data.to(\"cuda\")\n",
    "data + data1"
   ]
  },
  {
   "cell_type": "code",
   "execution_count": 42,
   "id": "e1ddb910",
   "metadata": {},
   "outputs": [
    {
     "data": {
      "text/plain": [
       "tensor([0, 0, 0], device='cuda:0')"
      ]
     },
     "execution_count": 42,
     "metadata": {},
     "output_type": "execute_result"
    }
   ],
   "source": [
    "data - data1"
   ]
  },
  {
   "cell_type": "code",
   "execution_count": 43,
   "id": "5d57421d",
   "metadata": {},
   "outputs": [
    {
     "data": {
      "text/plain": [
       "tensor([1, 4, 9], device='cuda:0')"
      ]
     },
     "execution_count": 43,
     "metadata": {},
     "output_type": "execute_result"
    }
   ],
   "source": [
    "data * data1"
   ]
  },
  {
   "cell_type": "code",
   "execution_count": 44,
   "id": "e8461e20",
   "metadata": {},
   "outputs": [
    {
     "data": {
      "text/plain": [
       "tensor([1., 1., 1.], device='cuda:0')"
      ]
     },
     "execution_count": 44,
     "metadata": {},
     "output_type": "execute_result"
    }
   ],
   "source": [
    "data / data1"
   ]
  },
  {
   "cell_type": "code",
   "execution_count": 45,
   "id": "7bdb87ac",
   "metadata": {},
   "outputs": [
    {
     "data": {
      "text/plain": [
       "tensor([[1, 2, 3],\n",
       "        [4, 5, 6]])"
      ]
     },
     "execution_count": 45,
     "metadata": {},
     "output_type": "execute_result"
    }
   ],
   "source": [
    "data = torch.tensor([[1, 2, 3], [4, 5, 6]])\n",
    "data"
   ]
  },
  {
   "cell_type": "code",
   "execution_count": null,
   "id": "be42b299",
   "metadata": {},
   "outputs": [
    {
     "data": {
      "text/plain": [
       "tensor(1)"
      ]
     },
     "execution_count": 46,
     "metadata": {},
     "output_type": "execute_result"
    }
   ],
   "source": [
    "data.min()          # 최소값"
   ]
  },
  {
   "cell_type": "code",
   "execution_count": null,
   "id": "6d2bf487",
   "metadata": {},
   "outputs": [
    {
     "data": {
      "text/plain": [
       "torch.return_types.min(\n",
       "values=tensor([1, 2, 3]),\n",
       "indices=tensor([0, 0, 0]))"
      ]
     },
     "execution_count": 47,
     "metadata": {},
     "output_type": "execute_result"
    }
   ],
   "source": [
    "data.min(dim=0)     # 열에서 가장 작은값 & 위치"
   ]
  },
  {
   "cell_type": "code",
   "execution_count": null,
   "id": "6d421f6f",
   "metadata": {},
   "outputs": [
    {
     "data": {
      "text/plain": [
       "torch.return_types.min(\n",
       "values=tensor([1, 4]),\n",
       "indices=tensor([0, 0]))"
      ]
     },
     "execution_count": 48,
     "metadata": {},
     "output_type": "execute_result"
    }
   ],
   "source": [
    "data.min(dim=1)     # 행에서 가장 작은값 & 위치"
   ]
  },
  {
   "cell_type": "code",
   "execution_count": 49,
   "id": "d5f0e402",
   "metadata": {},
   "outputs": [
    {
     "data": {
      "text/plain": [
       "tensor(6)"
      ]
     },
     "execution_count": 49,
     "metadata": {},
     "output_type": "execute_result"
    }
   ],
   "source": [
    "data.max()"
   ]
  },
  {
   "cell_type": "code",
   "execution_count": 50,
   "id": "05e1716f",
   "metadata": {},
   "outputs": [
    {
     "data": {
      "text/plain": [
       "torch.return_types.max(\n",
       "values=tensor([4, 5, 6]),\n",
       "indices=tensor([1, 1, 1]))"
      ]
     },
     "execution_count": 50,
     "metadata": {},
     "output_type": "execute_result"
    }
   ],
   "source": [
    "data.max(dim=0)"
   ]
  },
  {
   "cell_type": "code",
   "execution_count": 51,
   "id": "a94115db",
   "metadata": {},
   "outputs": [
    {
     "data": {
      "text/plain": [
       "torch.return_types.max(\n",
       "values=tensor([3, 6]),\n",
       "indices=tensor([2, 2]))"
      ]
     },
     "execution_count": 51,
     "metadata": {},
     "output_type": "execute_result"
    }
   ],
   "source": [
    "data.max(dim=1)"
   ]
  },
  {
   "cell_type": "code",
   "execution_count": 52,
   "id": "68f133a7",
   "metadata": {},
   "outputs": [
    {
     "data": {
      "text/plain": [
       "torch.int64"
      ]
     },
     "execution_count": 52,
     "metadata": {},
     "output_type": "execute_result"
    }
   ],
   "source": [
    "data.dtype"
   ]
  },
  {
   "cell_type": "markdown",
   "id": "ef353569",
   "metadata": {},
   "source": [
    "dtype 변경"
   ]
  },
  {
   "cell_type": "code",
   "execution_count": 54,
   "id": "cb0dbce5",
   "metadata": {},
   "outputs": [],
   "source": [
    "data = data.type(torch.float)"
   ]
  },
  {
   "cell_type": "code",
   "execution_count": 55,
   "id": "502b3543",
   "metadata": {},
   "outputs": [
    {
     "data": {
      "text/plain": [
       "torch.float32"
      ]
     },
     "execution_count": 55,
     "metadata": {},
     "output_type": "execute_result"
    }
   ],
   "source": [
    "data.dtype"
   ]
  },
  {
   "cell_type": "code",
   "execution_count": 56,
   "id": "538a4481",
   "metadata": {},
   "outputs": [
    {
     "data": {
      "text/plain": [
       "tensor(3.5000)"
      ]
     },
     "execution_count": 56,
     "metadata": {},
     "output_type": "execute_result"
    }
   ],
   "source": [
    "data.mean()"
   ]
  },
  {
   "cell_type": "markdown",
   "id": "1fd58181",
   "metadata": {},
   "source": [
    "## 차원 맞추기"
   ]
  },
  {
   "cell_type": "markdown",
   "id": "6cd478c5",
   "metadata": {},
   "source": [
    "1. .view()"
   ]
  },
  {
   "cell_type": "code",
   "execution_count": null,
   "id": "cef9563f",
   "metadata": {},
   "outputs": [
    {
     "data": {
      "text/plain": [
       "tensor([[[[0.7692, 0.5627, 0.6810,  ..., 0.0850, 0.0940, 0.9269],\n",
       "          [0.5166, 0.2053, 0.4322,  ..., 0.3754, 0.0675, 0.3732],\n",
       "          [0.8382, 0.0145, 0.0035,  ..., 0.2034, 0.7710, 0.1570],\n",
       "          ...,\n",
       "          [0.9392, 0.1734, 0.6283,  ..., 0.5386, 0.6036, 0.6372],\n",
       "          [0.8191, 0.1684, 0.7898,  ..., 0.0392, 0.4800, 0.8976],\n",
       "          [0.2005, 0.2298, 0.6384,  ..., 0.9745, 0.3348, 0.0342]],\n",
       "\n",
       "         [[0.1675, 0.7991, 0.8044,  ..., 0.6264, 0.2053, 0.5122],\n",
       "          [0.5624, 0.0779, 0.8931,  ..., 0.4940, 0.0493, 0.3207],\n",
       "          [0.8263, 0.1029, 0.5861,  ..., 0.1799, 0.0501, 0.9108],\n",
       "          ...,\n",
       "          [0.2895, 0.0609, 0.3387,  ..., 0.4349, 0.3444, 0.9233],\n",
       "          [0.8704, 0.4471, 0.6808,  ..., 0.9430, 0.3670, 0.8034],\n",
       "          [0.8245, 0.6328, 0.4264,  ..., 0.4509, 0.6595, 0.1994]],\n",
       "\n",
       "         [[0.6366, 0.2271, 0.4116,  ..., 0.6353, 0.8916, 0.6365],\n",
       "          [0.9736, 0.5036, 0.4820,  ..., 0.6113, 0.1562, 0.1721],\n",
       "          [0.9838, 0.5445, 0.2146,  ..., 0.5806, 0.6382, 0.1365],\n",
       "          ...,\n",
       "          [0.4202, 0.8205, 0.8569,  ..., 0.8267, 0.5092, 0.3669],\n",
       "          [0.0087, 0.7794, 0.5622,  ..., 0.8812, 0.8316, 0.2828],\n",
       "          [0.7492, 0.3190, 0.9043,  ..., 0.1679, 0.4654, 0.0547]]]])"
      ]
     },
     "execution_count": 57,
     "metadata": {},
     "output_type": "execute_result"
    }
   ],
   "source": [
    "image = torch.rand(3,128, 128)          # 차원 : 3\n",
    "image = image.view(1, 3, 128, 128)      # 차원 : 4\n",
    "image"
   ]
  },
  {
   "cell_type": "markdown",
   "id": "82146373",
   "metadata": {},
   "source": [
    "2. unsqueeze() : 길이가 1인 차원을 추가"
   ]
  },
  {
   "cell_type": "code",
   "execution_count": 59,
   "id": "741691b4",
   "metadata": {},
   "outputs": [],
   "source": [
    "image = torch.rand(3,128, 128)\n",
    "image = image.unsqueeze(dim=0)  # 앞에 하나의 차원을 더 늘려줌"
   ]
  },
  {
   "cell_type": "code",
   "execution_count": 60,
   "id": "0cc0e7a7",
   "metadata": {},
   "outputs": [
    {
     "data": {
      "text/plain": [
       "torch.Size([1, 3, 128, 128])"
      ]
     },
     "execution_count": 60,
     "metadata": {},
     "output_type": "execute_result"
    }
   ],
   "source": [
    "image.shape"
   ]
  },
  {
   "cell_type": "code",
   "execution_count": null,
   "id": "66da6ed6",
   "metadata": {},
   "outputs": [
    {
     "data": {
      "text/plain": [
       "tensor([[[0.4641, 0.6823, 0.4156,  ..., 0.6790, 0.1414, 0.1502],\n",
       "         [0.5557, 0.4780, 0.9340,  ..., 0.8175, 0.3192, 0.5412],\n",
       "         [0.7861, 0.6868, 0.4222,  ..., 0.8413, 0.5188, 0.1999],\n",
       "         ...,\n",
       "         [0.9882, 0.1121, 0.6364,  ..., 0.0254, 0.4081, 0.3592],\n",
       "         [0.6638, 0.3898, 0.0982,  ..., 0.2636, 0.2801, 0.2172],\n",
       "         [0.5962, 0.3514, 0.1828,  ..., 0.9551, 0.7681, 0.5102]]])"
      ]
     },
     "execution_count": 61,
     "metadata": {},
     "output_type": "execute_result"
    }
   ],
   "source": [
    "data = torch.rand(1, 128, 128)      # 여기서, 1은 아무의미 없음 -> 삭제\n",
    "data"
   ]
  },
  {
   "cell_type": "markdown",
   "id": "079d279b",
   "metadata": {},
   "source": [
    "3. squeeze() : 길이가 1인 차원 삭제"
   ]
  },
  {
   "cell_type": "code",
   "execution_count": 62,
   "id": "31f71afd",
   "metadata": {},
   "outputs": [
    {
     "data": {
      "text/plain": [
       "torch.Size([128, 128])"
      ]
     },
     "execution_count": 62,
     "metadata": {},
     "output_type": "execute_result"
    }
   ],
   "source": [
    "data = data.squeeze()\n",
    "data.shape"
   ]
  }
 ],
 "metadata": {
  "kernelspec": {
   "display_name": "deep-learning",
   "language": "python",
   "name": "python3"
  },
  "language_info": {
   "codemirror_mode": {
    "name": "ipython",
    "version": 3
   },
   "file_extension": ".py",
   "mimetype": "text/x-python",
   "name": "python",
   "nbconvert_exporter": "python",
   "pygments_lexer": "ipython3",
   "version": "3.13.5"
  }
 },
 "nbformat": 4,
 "nbformat_minor": 5
}
