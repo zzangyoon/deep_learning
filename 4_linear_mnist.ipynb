{
 "cells": [
  {
   "cell_type": "markdown",
   "id": "66264e2a",
   "metadata": {},
   "source": [
    "# MNIST를 활용한 딥러닝 실습"
   ]
  },
  {
   "cell_type": "markdown",
   "id": "1d3d2291",
   "metadata": {},
   "source": [
    "- 이미지 학습시킬때 → 배치단위로 쪼개서 넣음\n",
    "- 이미지 : [3, 128, 128] → 3차원\n",
    "- ->(배치단위로 쪼갬) [10, 3, 128, 128] → 4차원\n",
    "- -> 차원을 맞춰줘야함!!!"
   ]
  },
  {
   "cell_type": "markdown",
   "id": "6be5f552",
   "metadata": {},
   "source": [
    "- pyTorch : 비전쪽에 특화됨 (이미지 분류, ...)\n",
    "- torchvision.transforms : 이미지 전처리 라이브러리\n",
    "- 이미지 전처리란? 사이즈를 맞추는것\n",
    "- DataLoader : 데이터를 불러와서 쪼개주는 역할 (= train_test_split)"
   ]
  },
  {
   "cell_type": "code",
   "execution_count": 3,
   "id": "a736a342",
   "metadata": {},
   "outputs": [],
   "source": [
    "import matplotlib.pyplot as plt\n",
    "from torchvision.datasets.mnist import MNIST\n",
    "from torchvision.transforms import ToTensor\n",
    "from torch.utils.data.dataloader import DataLoader\n",
    "import torch\n",
    "import torch.nn as nn\n",
    "from torch.optim.adam import Adam"
   ]
  },
  {
   "cell_type": "markdown",
   "id": "3bd5c7ae",
   "metadata": {},
   "source": [
    "## 손글씨 데이터를 이용한 이미지 분류"
   ]
  },
  {
   "cell_type": "code",
   "execution_count": 4,
   "id": "3d4946f2",
   "metadata": {},
   "outputs": [],
   "source": [
    "# 이미지를 전처리 하는 방법이 1) torchvision.transforms 가 있고, 데이터 불러올때, 2) 'transform=' 형태로 전처리 가능\n",
    "# transform=ToTensor() : pyTorch가 읽기 좋게 tensor 형태로 가져와라\n",
    "train_data = MNIST(root=\"./\", train=True, download=True, transform=ToTensor())\n",
    "test_data = MNIST(root=\"./\", train=False, download=True, transform=ToTensor())"
   ]
  },
  {
   "cell_type": "code",
   "execution_count": 5,
   "id": "12d788b0",
   "metadata": {},
   "outputs": [
    {
     "data": {
      "text/plain": [
       "torch.Size([60000, 28, 28])"
      ]
     },
     "execution_count": 5,
     "metadata": {},
     "output_type": "execute_result"
    }
   ],
   "source": [
    "train_data.data.size()\n",
    "# torch.Size([60000, 28, 28]) : 데이터 개수 : 6만개 / 이미지는 3차원이므로, 4개의 값이 나와야하는데 값이 3개 밖에 없음 -> 흑백 이미지임"
   ]
  },
  {
   "cell_type": "code",
   "execution_count": 6,
   "id": "4ef5bc95",
   "metadata": {},
   "outputs": [
    {
     "data": {
      "text/plain": [
       "tensor([5, 0, 4,  ..., 5, 6, 8])"
      ]
     },
     "execution_count": 6,
     "metadata": {},
     "output_type": "execute_result"
    }
   ],
   "source": [
    "train_data.targets"
   ]
  },
  {
   "cell_type": "code",
   "execution_count": 7,
   "id": "6646985b",
   "metadata": {},
   "outputs": [
    {
     "data": {
      "text/plain": [
       "tensor([[  0,   0,   0,   0,   0,   0,   0,   0,   0,   0,   0,   0,   0,   0,\n",
       "           0,   0,   0,   0,   0,   0,   0,   0,   0,   0,   0,   0,   0,   0],\n",
       "        [  0,   0,   0,   0,   0,   0,   0,   0,   0,   0,   0,   0,   0,   0,\n",
       "           0,   0,   0,   0,   0,   0,   0,   0,   0,   0,   0,   0,   0,   0],\n",
       "        [  0,   0,   0,   0,   0,   0,   0,   0,   0,   0,   0,   0,   0,   0,\n",
       "           0,   0,   0,   0,   0,   0,   0,   0,   0,   0,   0,   0,   0,   0],\n",
       "        [  0,   0,   0,   0,   0,   0,   0,   0,   0,   0,   0,   0,   0,   0,\n",
       "           0,   0,   0,   0,   0,   0,   0,   0,   0,   0,   0,   0,   0,   0],\n",
       "        [  0,   0,   0,   0,   0,   0,   0,   0,   0,   0,   0,   0,   0,   0,\n",
       "           0,   0,   0,   0,   0,   0,   0,   0,   0,   0,   0,   0,   0,   0],\n",
       "        [  0,   0,   0,   0,   0,   0,   0,   0,   0,   0,   0,   0,   3,  18,\n",
       "          18,  18, 126, 136, 175,  26, 166, 255, 247, 127,   0,   0,   0,   0],\n",
       "        [  0,   0,   0,   0,   0,   0,   0,   0,  30,  36,  94, 154, 170, 253,\n",
       "         253, 253, 253, 253, 225, 172, 253, 242, 195,  64,   0,   0,   0,   0],\n",
       "        [  0,   0,   0,   0,   0,   0,   0,  49, 238, 253, 253, 253, 253, 253,\n",
       "         253, 253, 253, 251,  93,  82,  82,  56,  39,   0,   0,   0,   0,   0],\n",
       "        [  0,   0,   0,   0,   0,   0,   0,  18, 219, 253, 253, 253, 253, 253,\n",
       "         198, 182, 247, 241,   0,   0,   0,   0,   0,   0,   0,   0,   0,   0],\n",
       "        [  0,   0,   0,   0,   0,   0,   0,   0,  80, 156, 107, 253, 253, 205,\n",
       "          11,   0,  43, 154,   0,   0,   0,   0,   0,   0,   0,   0,   0,   0],\n",
       "        [  0,   0,   0,   0,   0,   0,   0,   0,   0,  14,   1, 154, 253,  90,\n",
       "           0,   0,   0,   0,   0,   0,   0,   0,   0,   0,   0,   0,   0,   0],\n",
       "        [  0,   0,   0,   0,   0,   0,   0,   0,   0,   0,   0, 139, 253, 190,\n",
       "           2,   0,   0,   0,   0,   0,   0,   0,   0,   0,   0,   0,   0,   0],\n",
       "        [  0,   0,   0,   0,   0,   0,   0,   0,   0,   0,   0,  11, 190, 253,\n",
       "          70,   0,   0,   0,   0,   0,   0,   0,   0,   0,   0,   0,   0,   0],\n",
       "        [  0,   0,   0,   0,   0,   0,   0,   0,   0,   0,   0,   0,  35, 241,\n",
       "         225, 160, 108,   1,   0,   0,   0,   0,   0,   0,   0,   0,   0,   0],\n",
       "        [  0,   0,   0,   0,   0,   0,   0,   0,   0,   0,   0,   0,   0,  81,\n",
       "         240, 253, 253, 119,  25,   0,   0,   0,   0,   0,   0,   0,   0,   0],\n",
       "        [  0,   0,   0,   0,   0,   0,   0,   0,   0,   0,   0,   0,   0,   0,\n",
       "          45, 186, 253, 253, 150,  27,   0,   0,   0,   0,   0,   0,   0,   0],\n",
       "        [  0,   0,   0,   0,   0,   0,   0,   0,   0,   0,   0,   0,   0,   0,\n",
       "           0,  16,  93, 252, 253, 187,   0,   0,   0,   0,   0,   0,   0,   0],\n",
       "        [  0,   0,   0,   0,   0,   0,   0,   0,   0,   0,   0,   0,   0,   0,\n",
       "           0,   0,   0, 249, 253, 249,  64,   0,   0,   0,   0,   0,   0,   0],\n",
       "        [  0,   0,   0,   0,   0,   0,   0,   0,   0,   0,   0,   0,   0,   0,\n",
       "          46, 130, 183, 253, 253, 207,   2,   0,   0,   0,   0,   0,   0,   0],\n",
       "        [  0,   0,   0,   0,   0,   0,   0,   0,   0,   0,   0,   0,  39, 148,\n",
       "         229, 253, 253, 253, 250, 182,   0,   0,   0,   0,   0,   0,   0,   0],\n",
       "        [  0,   0,   0,   0,   0,   0,   0,   0,   0,   0,  24, 114, 221, 253,\n",
       "         253, 253, 253, 201,  78,   0,   0,   0,   0,   0,   0,   0,   0,   0],\n",
       "        [  0,   0,   0,   0,   0,   0,   0,   0,  23,  66, 213, 253, 253, 253,\n",
       "         253, 198,  81,   2,   0,   0,   0,   0,   0,   0,   0,   0,   0,   0],\n",
       "        [  0,   0,   0,   0,   0,   0,  18, 171, 219, 253, 253, 253, 253, 195,\n",
       "          80,   9,   0,   0,   0,   0,   0,   0,   0,   0,   0,   0,   0,   0],\n",
       "        [  0,   0,   0,   0,  55, 172, 226, 253, 253, 253, 253, 244, 133,  11,\n",
       "           0,   0,   0,   0,   0,   0,   0,   0,   0,   0,   0,   0,   0,   0],\n",
       "        [  0,   0,   0,   0, 136, 253, 253, 253, 212, 135, 132,  16,   0,   0,\n",
       "           0,   0,   0,   0,   0,   0,   0,   0,   0,   0,   0,   0,   0,   0],\n",
       "        [  0,   0,   0,   0,   0,   0,   0,   0,   0,   0,   0,   0,   0,   0,\n",
       "           0,   0,   0,   0,   0,   0,   0,   0,   0,   0,   0,   0,   0,   0],\n",
       "        [  0,   0,   0,   0,   0,   0,   0,   0,   0,   0,   0,   0,   0,   0,\n",
       "           0,   0,   0,   0,   0,   0,   0,   0,   0,   0,   0,   0,   0,   0],\n",
       "        [  0,   0,   0,   0,   0,   0,   0,   0,   0,   0,   0,   0,   0,   0,\n",
       "           0,   0,   0,   0,   0,   0,   0,   0,   0,   0,   0,   0,   0,   0]],\n",
       "       dtype=torch.uint8)"
      ]
     },
     "execution_count": 7,
     "metadata": {},
     "output_type": "execute_result"
    }
   ],
   "source": [
    "train_data.data[0]"
   ]
  },
  {
   "cell_type": "code",
   "execution_count": 8,
   "id": "227d368e",
   "metadata": {},
   "outputs": [
    {
     "data": {
      "image/png": "[encoded data removed]",
      "text/plain": [
       "<Figure size 640x480 with 1 Axes>"
      ]
     },
     "metadata": {},
     "output_type": "display_data"
    }
   ],
   "source": [
    "# 그려서 직접 확인해보자\n",
    "plt.imshow(train_data.data[0], cmap='gray')     # 흑백이미지 cmap='gray'\n",
    "plt.show()"
   ]
  },
  {
   "cell_type": "markdown",
   "id": "994ca977",
   "metadata": {},
   "source": [
    "## 미니배치"
   ]
  },
  {
   "cell_type": "code",
   "execution_count": 9,
   "id": "3039bd78",
   "metadata": {},
   "outputs": [],
   "source": [
    "# DataLoader : 총 6만개의 데이터를 32개씩 1875개의 묶음으로 나눠주는 역할\n",
    "train_loader = DataLoader(train_data, batch_size=32, shuffle=True)      # shuffle = random_state\n",
    "test_loader = DataLoader(test_data, batch_size=32, shuffle=False)       # shuffle 상관없음"
   ]
  },
  {
   "cell_type": "code",
   "execution_count": 10,
   "id": "2b66917b",
   "metadata": {},
   "outputs": [
    {
     "data": {
      "text/plain": [
       "torch.Size([32, 1, 28, 28])"
      ]
     },
     "execution_count": 10,
     "metadata": {},
     "output_type": "execute_result"
    }
   ],
   "source": [
    "next(iter(train_loader))[0].shape"
   ]
  },
  {
   "cell_type": "code",
   "execution_count": 11,
   "id": "72d0c7a3",
   "metadata": {},
   "outputs": [
    {
     "data": {
      "text/plain": [
       "Sequential(\n",
       "  (0): Linear(in_features=784, out_features=64, bias=True)\n",
       "  (1): ReLU()\n",
       "  (2): Linear(in_features=64, out_features=64, bias=True)\n",
       "  (3): ReLU()\n",
       "  (4): Linear(in_features=64, out_features=10, bias=True)\n",
       ")"
      ]
     },
     "execution_count": 11,
     "metadata": {},
     "output_type": "execute_result"
    }
   ],
   "source": [
    "device = \"cuda\" if torch.cuda.is_available() else \"cpu\"\n",
    "\n",
    "model = nn.Sequential(                      # 실제로는 이렇게 안함 -> 클래스로함\n",
    "    nn.Linear(784, 64),                     # 784 : 28*28 / 64개는 내가 정한 output 개수\n",
    "    nn.ReLU(),\n",
    "    nn.Linear(64, 64),\n",
    "    nn.ReLU(),\n",
    "    nn.Linear(64, 10)                       # 10개의 카테고리로 분류 -> 최종 output:10\n",
    ")\n",
    "\n",
    "model.to(device)\n",
    "model\n",
    "\n",
    "# 모델을 gpu로 보냄 -> 뭘 저장하기 위함일까\n",
    "# 모델의 가중치들을 학습시킴 -> 저장"
   ]
  },
  {
   "cell_type": "code",
   "execution_count": null,
   "id": "210acfef",
   "metadata": {},
   "outputs": [],
   "source": [
    "from tensorboardX import SummaryWriter"
   ]
  },
  {
   "cell_type": "code",
   "execution_count": null,
   "id": "19179151",
   "metadata": {},
   "outputs": [
    {
     "name": "stdout",
     "output_type": "stream",
     "text": [
      "1 loss ::: 0.1292235553264618\n",
      "2 loss ::: 0.08665318787097931\n",
      "3 loss ::: 0.3006584644317627\n",
      "4 loss ::: 0.1392887532711029\n",
      "5 loss ::: 0.008286639116704464\n",
      "6 loss ::: 0.006662772968411446\n",
      "7 loss ::: 0.0141095956787467\n",
      "8 loss ::: 0.010491662658751011\n",
      "9 loss ::: 0.004578251391649246\n",
      "10 loss ::: 0.001400831970386207\n",
      "11 loss ::: 0.001378377666696906\n",
      "12 loss ::: 0.012766620144248009\n",
      "13 loss ::: 0.00965967494994402\n",
      "14 loss ::: 0.0843205451965332\n",
      "15 loss ::: 0.0032520759850740433\n",
      "16 loss ::: 2.883059460145887e-05\n",
      "17 loss ::: 0.00024395788204856217\n",
      "18 loss ::: 0.0043088458478450775\n",
      "19 loss ::: 0.0007139212684705853\n",
      "20 loss ::: 0.0759950503706932\n"
     ]
    }
   ],
   "source": [
    "writer = SummaryWriter()\n",
    "\n",
    "lr = 1e-3\n",
    "criterion = nn.CrossEntropyLoss()               # CrossEntropyLoss() 쓴 이유 : 분류\n",
    "optim = Adam(model.parameters(), lr=lr)         # parameters() : Adam이 최적화시키는 것은 모델의 가중치, param=가중치\n",
    "epochs = 20\n",
    "step = 0\n",
    "\n",
    "for epoch in range(20) :\n",
    "    for data, label in train_loader :           # train_loader -> [(데이터1, 정답1), (데이터2, 정답2), ...]\n",
    "        optim.zero_grad()\n",
    "        data = torch.reshape(data, (-1, 784))   # 모델 입력데이터 : 784개의 1차원 / 데이터 -> 3차원의 데이터를 1차원으로 바꿔 사용해야함\n",
    "        # data = data.view(-1, 784)             # 3차원 -> 1차원 : reshape() or view()\n",
    "        pred = model(data.to(device))\n",
    "        loss = criterion(pred, label.to(device))\n",
    "        writer.add_scalar(\"Loss/train\", loss.item(), step)  # (그래프이름, x축(손실값), y축(step : 한번 학습할때마다 +1))\n",
    "        step = step + 1\n",
    "        loss.backward()\n",
    "        optim.step()                            # 가중치 업데이트\n",
    "    \n",
    "    print(f\"{epoch+1} loss ::: {loss.item()}\")"
   ]
  },
  {
   "cell_type": "markdown",
   "id": "4d876f06",
   "metadata": {},
   "source": [
    "```\n",
    "uv add tensorboard\n",
    "uv add tensorboardX\n",
    "```\n",
    "- tensorboardX 는 코드에서 로그 기록 (PyTorch) - SummaryWriter 클래스 제공\n",
    "- tensorboard 는 로그 시각화 실행"
   ]
  },
  {
   "cell_type": "markdown",
   "id": "461662bd",
   "metadata": {},
   "source": [
    "```\n",
    "uv run tensorboard --logdir=runs\n",
    "```\n",
    "- http://localhost:6006/ 로 들어가서 그래프 확인"
   ]
  },
  {
   "attachments": {
    "image.png": {
     "image/png": "[encoded data removed]"
    }
   },
   "cell_type": "markdown",
   "id": "69cdafbb",
   "metadata": {},
   "source": [
    "![image.png](attachment:image.png)"
   ]
  },
  {
   "cell_type": "code",
   "execution_count": null,
   "id": "165f27d2",
   "metadata": {},
   "outputs": [
    {
     "name": "stdout",
     "output_type": "stream",
     "text": [
      "정확도 : 0.9713\n"
     ]
    }
   ],
   "source": [
    "# 평가 -> 가중치 값들 고정됨\n",
    "# model.eval() -> 위에서 학습된 모델을 테스트모델로 바꾸겠다 - 추론형 모델로\n",
    "model.eval()\n",
    "\n",
    "with torch.no_grad() :        # no_grad() : 자동미분 끔\n",
    "    total_corr = 0\n",
    "    for images, labels in test_loader :\n",
    "        # print(images.shape)\n",
    "        images = images.view(-1, 784).to(device)                    # 모델의 input 값이 784 이므로 데이터도 똑같이 넣어줘야함\n",
    "        labels = labels.to(device)\n",
    "\n",
    "        preds = model(images)\n",
    "\n",
    "        _, pred = torch.max(preds.data, 1)                          # torch.max() -> 결과값 : (max_values(최대값), max_indices(인덱스))\n",
    "        total_corr = total_corr + (pred == labels).sum().item()     # 정답만 저장 -> 전체데이터 개수로 나누면 정답률 나옴\n",
    "\n",
    "print(f\"정확도 : {total_corr/len(test_data.targets)}\")\n",
    "        "
   ]
  },
  {
   "cell_type": "code",
   "execution_count": null,
   "id": "3f91bbf2",
   "metadata": {},
   "outputs": [
    {
     "data": {
      "text/plain": [
       "tensor([[-2.8236e+01,  1.2910e+01, -1.4578e+01, -9.9309e+00, -6.7990e+00,\n",
       "         -2.5207e+01, -2.2819e+01,  7.5592e-01, -6.2279e+00, -1.6063e+01],\n",
       "        [-2.8751e+01, -5.0059e+00,  2.3244e+01,  8.8881e+00, -4.7431e+01,\n",
       "         -2.0337e+01, -4.1224e+01,  4.0607e+00, -2.4734e+00, -2.4198e+01],\n",
       "        [-5.0134e+01, -4.7426e-02, -1.2907e+01,  2.2526e+01, -4.4127e+01,\n",
       "         -9.4241e+00, -6.3559e+01, -4.4259e+00, -8.5849e-01, -2.2632e+00],\n",
       "        [-2.9836e+01, -1.2969e+01, -9.9849e+00, -2.4605e+01,  2.6724e+01,\n",
       "         -1.4871e+01, -1.9631e+01, -1.6319e+01, -9.6948e+00, -8.3185e+00],\n",
       "        [-3.3225e+01, -1.0403e+01, -4.2660e+01, -8.6162e+00, -2.0438e+01,\n",
       "          3.2721e+01, -3.1578e+01, -1.9963e+01, -1.1249e+01, -3.7791e+00],\n",
       "        [-1.1200e+01, -1.1664e+01, -1.3639e+01, -1.4544e+01, -9.4277e+00,\n",
       "         -7.6460e-01,  2.3891e+01, -2.7436e+01, -6.5987e+00, -2.8651e+01],\n",
       "        [-3.2820e+01, -4.2373e+00, -1.0487e+01,  2.2713e+00, -2.8919e+01,\n",
       "         -4.2340e+01, -4.9660e+01,  2.5010e+01, -8.8193e+00, -1.3961e+01],\n",
       "        [-1.3994e+01, -1.3633e+01, -1.2898e+01, -4.9129e+00, -2.7250e+01,\n",
       "         -4.6380e+00, -8.8121e+00, -1.9066e+01,  1.8233e+01, -8.9624e+00],\n",
       "        [-1.5407e+01, -2.6597e+01, -7.4367e+00, -1.6345e+01,  1.0047e+01,\n",
       "         -2.2729e+01, -2.5464e+01, -8.4598e+00, -1.3867e+01,  1.7612e+01],\n",
       "        [ 2.2862e+01, -2.5593e+01,  3.2554e+00, -1.0878e+01, -2.7370e+01,\n",
       "         -1.7516e+01, -2.7071e+00, -2.5730e+01,  3.4066e+00, -1.3454e+01],\n",
       "        [-2.5651e+01,  1.3351e+01, -7.7679e+00, -1.9723e+01, -7.6414e+00,\n",
       "         -2.1415e+01, -1.6710e+01, -4.3938e+00, -3.6079e+00, -2.0779e+01],\n",
       "        [-2.3406e+01,  7.7496e-01,  2.3846e+01,  6.4520e+00, -4.6548e+01,\n",
       "         -9.9072e+00, -3.7780e+01,  5.5479e+00, -4.5046e+00, -2.8888e+01],\n",
       "        [-3.8831e+01, -6.5595e+00, -7.1899e+00,  2.1323e+01, -4.4998e+01,\n",
       "         -6.5208e+00, -6.8853e+01, -9.1338e+00, -1.4048e+01,  4.1900e+00],\n",
       "        [-3.4014e+01, -1.3337e+01, -2.9920e+01, -3.2274e+01,  2.6015e+01,\n",
       "         -2.6996e+01, -2.7416e+01, -4.7354e+00, -1.1427e+01, -1.7423e+00],\n",
       "        [-1.9513e+01, -3.1527e+00, -2.1326e+01, -1.3498e+01, -2.8596e+01,\n",
       "          2.3269e+01, -7.2774e+00, -1.7005e+01,  2.8464e+00, -3.1151e+01],\n",
       "        [-9.8757e+00, -1.6030e+01, -1.9400e+01, -1.0583e+01, -6.0494e+00,\n",
       "         -4.9630e+00,  2.5388e+01, -2.6597e+01, -2.3546e+01, -2.7392e+01]],\n",
       "       device='cuda:0')"
      ]
     },
     "execution_count": 17,
     "metadata": {},
     "output_type": "execute_result"
    }
   ],
   "source": [
    "preds\n",
    "\n",
    "# [-2.8236e+01,  1.2910e+01, -1.4578e+01, -9.9309e+00, -6.7990e+00,\n",
    "#  -2.5207e+01, -2.2819e+01,  7.5592e-01, -6.2279e+00, -1.6063e+01]\n",
    "# 이렇게 정답이 10개가 나옴 (내가 설정해준 output값 :10)\n",
    "# 이 중 제일 확률이 높은게 정답 (0~9번째 중 1번째가 확률이 젤 높음 -> 정답 : 1) -> torch.max()로 뽑아내자"
   ]
  },
  {
   "cell_type": "code",
   "execution_count": 18,
   "id": "4fbe0da2",
   "metadata": {},
   "outputs": [
    {
     "data": {
      "text/plain": [
       "torch.return_types.max(\n",
       "values=tensor([12.9105, 23.2442, 22.5263, 26.7237, 32.7215, 23.8910, 25.0100, 18.2333,\n",
       "        17.6118, 22.8617, 13.3510, 23.8458, 21.3228, 26.0153, 23.2692, 25.3876],\n",
       "       device='cuda:0'),\n",
       "indices=tensor([1, 2, 3, 4, 5, 6, 7, 8, 9, 0, 1, 2, 3, 4, 5, 6], device='cuda:0'))"
      ]
     },
     "execution_count": 18,
     "metadata": {},
     "output_type": "execute_result"
    }
   ],
   "source": [
    "torch.max(preds.data, 1)"
   ]
  },
  {
   "cell_type": "code",
   "execution_count": null,
   "id": "0bd429a8",
   "metadata": {},
   "outputs": [
    {
     "data": {
      "text/plain": [
       "torch.Size([16, 10])"
      ]
     },
     "execution_count": 20,
     "metadata": {},
     "output_type": "execute_result"
    }
   ],
   "source": [
    "preds.data.shape\n",
    "\n",
    "# 지금 보는건 반복문의 제일 마지막 shape -> 32개씩 묶어서 남은 개수 16개의 정답 10개"
   ]
  },
  {
   "cell_type": "code",
   "execution_count": null,
   "id": "d9f8a8f6",
   "metadata": {},
   "outputs": [
    {
     "data": {
      "text/plain": [
       "tensor([1, 2, 3, 4, 5, 6, 7, 8, 9, 0, 1, 2, 3, 4, 5, 6], device='cuda:0')"
      ]
     },
     "execution_count": 23,
     "metadata": {},
     "output_type": "execute_result"
    }
   ],
   "source": [
    "# 모델 예측 정답 \n",
    "_, pred = torch.max(preds.data, 1)\n",
    "pred"
   ]
  },
  {
   "cell_type": "code",
   "execution_count": 24,
   "id": "2809b482",
   "metadata": {},
   "outputs": [
    {
     "data": {
      "text/plain": [
       "tensor([1, 2, 3, 4, 5, 6, 7, 8, 9, 0, 1, 2, 3, 4, 5, 6], device='cuda:0')"
      ]
     },
     "execution_count": 24,
     "metadata": {},
     "output_type": "execute_result"
    }
   ],
   "source": [
    "# 실제 정답\n",
    "labels"
   ]
  },
  {
   "cell_type": "code",
   "execution_count": null,
   "id": "3e41d749",
   "metadata": {},
   "outputs": [
    {
     "data": {
      "text/plain": [
       "tensor([True, True, True, True, True, True, True, True, True, True, True, True,\n",
       "        True, True, True, True], device='cuda:0')"
      ]
     },
     "execution_count": 25,
     "metadata": {},
     "output_type": "execute_result"
    }
   ],
   "source": [
    "# 모델 예측값과 실제정답 비교 (정답 -> True(=1))\n",
    "pred == labels"
   ]
  },
  {
   "cell_type": "code",
   "execution_count": null,
   "id": "56317b06",
   "metadata": {},
   "outputs": [
    {
     "data": {
      "text/plain": [
       "tensor(16, device='cuda:0')"
      ]
     },
     "execution_count": 26,
     "metadata": {},
     "output_type": "execute_result"
    }
   ],
   "source": [
    "(pred == labels).sum()\n",
    "# true 값이 16 -> 16개 중 16개 맞음"
   ]
  },
  {
   "cell_type": "code",
   "execution_count": null,
   "id": "b142d296",
   "metadata": {},
   "outputs": [],
   "source": [
    "# 분류에서 자주 나타나는 문제\n",
    "# 1. 데이터 불균형\n",
    "# 2. 클래스 간 유사성 : 서로 유사한 클래스가 있어 모델이 혼동 (3 vs 8)"
   ]
  }
 ],
 "metadata": {
  "kernelspec": {
   "display_name": "deep-learning",
   "language": "python",
   "name": "python3"
  },
  "language_info": {
   "codemirror_mode": {
    "name": "ipython",
    "version": 3
   },
   "file_extension": ".py",
   "mimetype": "text/x-python",
   "name": "python",
   "nbconvert_exporter": "python",
   "pygments_lexer": "ipython3",
   "version": "3.13.5"
  }
 },
 "nbformat": 4,
 "nbformat_minor": 5
}
